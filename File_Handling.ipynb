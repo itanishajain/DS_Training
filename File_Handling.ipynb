{
 "cells": [
  {
   "cell_type": "code",
   "execution_count": 3,
   "metadata": {},
   "outputs": [],
   "source": [
    "import numpy as np\n",
    "import pandas as pd"
   ]
  },
  {
   "cell_type": "code",
   "execution_count": 8,
   "metadata": {},
   "outputs": [
    {
     "name": "stdout",
     "output_type": "stream",
     "text": [
      "Assignment-2.py        \u001b[34mWeb_Development\u001b[m\u001b[m/       rec.py\n",
      "\u001b[34mCustomer_satisfaction\u001b[m\u001b[m/ assignment-3.ipynb     requirements.txt\n",
      "\u001b[34mEmail_Classification\u001b[m\u001b[m/  assignment-4.ipynb     seaborn.ipynb\n",
      "File_Handling.ipynb    demo.txt               sender.py\n",
      "\u001b[34mMachine Learning\u001b[m\u001b[m/      exception.ipynb        test_sklearn.py\n",
      "OOP.ipynb              matplotlib.ipynb       tips.csv\n",
      "README.md              numpy.ipynb            titanic.csv\n",
      "Used_Bikes.csv         pandas.ipynb\n"
     ]
    }
   ],
   "source": [
    "ls"
   ]
  },
  {
   "cell_type": "code",
   "execution_count": 9,
   "metadata": {},
   "outputs": [],
   "source": [
    "file = open('demo.txt', 'w') # \"w\" mode -> It creates the file of that particular name if it does not exist and if it exists then it will write the data into the file.\n",
    "# Write mode does not retain the past data. It will erase the past information and writes the new data only."
   ]
  },
  {
   "cell_type": "code",
   "execution_count": 20,
   "metadata": {},
   "outputs": [],
   "source": [
    "message = \"\"\"\n",
    "Hii.. We are studying file handling.\n",
    "\"\"\"\n",
    "file = open('demo.txt', 'w')\n",
    "file.write(message)\n",
    "file.close()"
   ]
  },
  {
   "cell_type": "code",
   "execution_count": 21,
   "metadata": {},
   "outputs": [
    {
     "name": "stdout",
     "output_type": "stream",
     "text": [
      "\n",
      "Hii.. We are studying file handling.\n",
      "\n"
     ]
    }
   ],
   "source": [
    "file = open('demo.txt', 'r') # \"r\" mode -> It read the data form the file\n",
    "data = file.read()\n",
    "print(data)"
   ]
  },
  {
   "cell_type": "code",
   "execution_count": 30,
   "metadata": {},
   "outputs": [],
   "source": [
    "# \"a\" mode -> It will just add the new data to the existing data.\n",
    "message = \"\"\"\n",
    "Now I am stying modes of file handling.\n",
    "\"\"\"\n",
    "file = open('demo.txt', 'a')\n",
    "file.write(message)\n",
    "file.close()"
   ]
  },
  {
   "cell_type": "code",
   "execution_count": 31,
   "metadata": {},
   "outputs": [
    {
     "name": "stdout",
     "output_type": "stream",
     "text": [
      "\n",
      "Hii.. We are studying file handling.\n",
      "\n",
      "Now I am stying modes of file handling.\n",
      "\n",
      "Now I am stying modes of file handling.\n",
      "\n",
      "Now I am stying modes of file handling.\n",
      "\n",
      "Now I am stying modes of file handling.\n",
      "\n",
      "Now I am stying modes of file handling.\n",
      "\n"
     ]
    }
   ],
   "source": [
    "file = open('demo.txt', 'r') \n",
    "data = file.read()\n",
    "print(data)"
   ]
  },
  {
   "cell_type": "code",
   "execution_count": 32,
   "metadata": {},
   "outputs": [
    {
     "name": "stdout",
     "output_type": "stream",
     "text": [
      "\n",
      "Hii.. We are studying file handling.\n",
      "\n",
      "Now I am stying modes of file handling.\n",
      "\n",
      "Now I am stying modes of file handling.\n",
      "\n",
      "Now I am stying modes of file handling.\n",
      "\n",
      "Now I am stying modes of file handling.\n",
      "\n",
      "Now I am stying modes of file handling.\n",
      "\n"
     ]
    }
   ],
   "source": [
    "with open('demo.txt', 'r') as file:  # With using with keyword file will automatically close.\n",
    "    data = file.read()\n",
    "    print(data)"
   ]
  }
 ],
 "metadata": {
  "kernelspec": {
   "display_name": ".venv",
   "language": "python",
   "name": "python3"
  },
  "language_info": {
   "codemirror_mode": {
    "name": "ipython",
    "version": 3
   },
   "file_extension": ".py",
   "mimetype": "text/x-python",
   "name": "python",
   "nbconvert_exporter": "python",
   "pygments_lexer": "ipython3",
   "version": "3.12.4"
  }
 },
 "nbformat": 4,
 "nbformat_minor": 2
}
